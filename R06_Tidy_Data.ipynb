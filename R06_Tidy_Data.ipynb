{
  "nbformat": 4,
  "nbformat_minor": 0,
  "metadata": {
    "colab": {
      "provenance": [],
      "toc_visible": true,
      "include_colab_link": true
    },
    "kernelspec": {
      "name": "ir",
      "display_name": "R"
    }
  },
  "cells": [
    {
      "cell_type": "markdown",
      "metadata": {
        "id": "view-in-github",
        "colab_type": "text"
      },
      "source": [
        "<a href=\"https://colab.research.google.com/github/komorimasashi/jinka-stat-a1/blob/main/R06_Tidy_Data.ipynb\" target=\"_parent\"><img src=\"https://colab.research.google.com/assets/colab-badge.svg\" alt=\"Open In Colab\"/></a>"
      ]
    },
    {
      "cell_type": "markdown",
      "source": [
        "## **6. 整然データとその処理**"
      ],
      "metadata": {
        "id": "zfzxWkUibiYQ"
      }
    },
    {
      "cell_type": "markdown",
      "source": [
        "### **6.1 整然データとは**"
      ],
      "metadata": {
        "id": "LU85o2Q-cLZv"
      }
    },
    {
      "cell_type": "markdown",
      "source": [
        "近年，データを**tidy data（整然データ，雑然としたの反対語）**という形式で統一的に扱うと良いという考え方が広まりつつあります．整然データとはどのようなものでしょうか．簡単に言えば「一つの観測が一つの行に対応する」ようにデータを並べたものです．\n",
        "\n",
        "整然データは、以下の三つの原則に基づいてデータを整理する方法を指します：\n",
        "1. **各変数が1列を形成する。**\n",
        "2. **各観測が1行を形成する。**\n",
        "3. **各観測単位の型が1つのテーブルを形成する。**\n",
        "\n",
        "この考えに則って，R界隈では整然データを扱うことに適したパッケージ`{tidyverse}`が広く使われるようになってきました．`{tidyverse}`には，data.frameからデータの抽出，ソートや要約などが簡単にできるパッケージである`{dplyr}`や，美しい描画を手軽に描画できる`{ggplot2}`などのパッケージが含まれています．`{ggplot2}`はこのような形式で記述されたデータを表示するようにできています．これらのパッケージは整然データの考え方に従って設計されています．\n",
        "\n",
        "<figure><img src=\"https://lh3.googleusercontent.com/d/1o3B3yHpGzIYNvil3GgwxGblnOwpWnytO\" alt=\"logo\" width=600><figcaption>Tidyverseとその関連パッケージ（https://www.tidyverse.org/）</figcaption></figure>\n",
        "\n"
      ],
      "metadata": {
        "id": "issGSh-Bc1Z0"
      }
    },
    {
      "cell_type": "markdown",
      "source": [
        "*   **人間にとってはわかりやすいが整然データではないデータ（18個の観測値がある）**\n",
        "例えば下の表は人間にとってはとても見やすいですが，一つの行に複数の観測値が含まれているので，整然データではありません．実験参加者Aの2日目の観測値を見るためには，列と行のインデックスを見る必要があります．\n",
        "\n",
        "\n",
        "<figure><img src=\"https://lh3.googleusercontent.com/d/1JPuMzU1mDnM_Pbiy0anRNLUrObEUWjbp\" alt=\"logo\" width=600><figcaption></figcaption></figure>\n"
      ],
      "metadata": {
        "id": "mWviRlA1dUrv"
      }
    },
    {
      "cell_type": "markdown",
      "source": [
        "*   **整然データ**\n",
        "一方，上を整然データに直したものが下の表になります．一つの観測値に一つの行が割り当てられているため，統計的な分析をする際にはこちらの方が楽になります．\n",
        "\n",
        "<figure><img src=\"https://lh3.googleusercontent.com/d/1wO1097LDn-pyw3oQHeThJebn40AcH1Rl\" alt=\"logo\" width=250><figcaption></figcaption></figure>\n",
        "\n"
      ],
      "metadata": {
        "id": "RLtGWGh6uF3r"
      }
    },
    {
      "cell_type": "markdown",
      "source": [
        "### **6.2 整然データの利点**"
      ],
      "metadata": {
        "id": "pYG_UBVtS1bw"
      }
    },
    {
      "cell_type": "markdown",
      "source": [
        "当然のことですが，研究では**再生可能性**（同じデータを同じように処理すれば同じ結果が得られる）ことが重視されます．再生可能性を高める一つの方法が，整然データを使うことです．\n",
        "\n",
        "1. **分析しやすい：** 整然データ形式は、多くのR関数や`tidyverse`のパッケージ、特に`dplyr`や`ggplot2`と互換性が高く、データの加工や分析が容易になります。データが一貫した形式であるため、関数を適用する際の予期せぬエラーや結果の不整合を避けることができます。\n",
        "2. **可読性の向上：** 整然データは、人間にとっても読みやすい形式です。データの各列が何を表しているか、どのようにデータが構成されているかが一目でわかります。これにより、データの理解が深まり、データに関するコミュニケーションが容易になります。\n",
        "3. **再利用性の向上：** 一度整然データ形式に変換しておけば、同じデータセットを用いた別の分析や可視化にも簡単に再利用することができます。データの前処理作業を繰り返す必要が減少し、効率的なデータ分析が可能になります。\n",
        "4. **自動化とスケーラビリティ：** 整然データの形式は、データの自動処理や大規模なデータセットへの適用を容易にします。データの整形や分析のプロセスをスクリプト化しやすくなり、大量のデータや複数のデータセットに対して同じ操作を繰り返す場合に大きな効果を発揮します。\n",
        "5. **データの統合と共有：** 異なるデータソースから収集されたデータを統合する際にも、整然データの原則が役立ちます。データの形式を統一することで、異なるデータセット間での比較や組み合わせが容易になり、データの共有や公開もスムーズに行えます。\n",
        "\n",
        "整然データの形式でデータを扱うことは今後広まっていくでしょう（ただし現時点では，活発に開発が進んでいることから`{tidyverse}`関係の関数の仕様が頻繁に変わることがあるため，最新の情報を手に入れるようにしましょう）．"
      ],
      "metadata": {
        "id": "O3Xdj0xNS7hu"
      }
    },
    {
      "cell_type": "markdown",
      "source": [
        "### **6.3 整然データを扱うためのライブラリ**"
      ],
      "metadata": {
        "id": "hpEGgA1JbpOX"
      }
    },
    {
      "cell_type": "markdown",
      "source": [
        "整然データを使うことで分析や視覚化が容易になります．**`tidyverse`**パッケージ群、特に**`dplyr`**や**`tidyr`**は、データをこの整然データ形式に変換し、分析しやすくするための強力なツールを提供します．\n",
        "\n",
        "また，データを最初から「整然データ」として扱うことで，中間オブジェクトを挟まずともデータ整形から処理・可視化まで一連の流れをミス無く円滑に行いやすくなりますと言われています．またこのための仕組みとして`{tidyverse}`の一連のパッケージでは，**パイプ演算子（%>%）**というものが使われます．\n",
        "\n",
        "\n",
        "**代表的なtidyverseパッケージ**\n",
        "*   [ggplot2](https://ggplot2.tidyverse.org/): グラフィックスを作成するためのパッケージ\n",
        "*   [dplyr](https://dplyr.tidyverse.org/): データ操作、抽出、加工のためのパッケージ\n",
        "*   [tidyr:](https://tidyr.tidyverse.org/) “tidy data” を作成、操作するためのパッケージ\n",
        "*   [readr](https://readr.tidyverse.org/): ファイルを柔軟に読み込むためのパッケージ\n",
        "*   [purrr](https://purrr.tidyverse.org/): 関数型プログラミングを実現するためのパッケージ\n",
        "*   [tibble](https://tibble.tidyverse.org/): データ構造tibbleを作成、操作するためのパッケージ\n",
        "*   [stringr](https://stringr.tidyverse.org/): 文字列を容易に、柔軟に操作するためのパッケージ\n",
        "*   [forcats](https://forcats.tidyverse.org/): factor型のデータを柔軟に操作するためのパッケージ\n",
        "*   [magrittr](https://magrittr.tidyverse.org/): : パイプ (%>%) 演算子の機能を提供するパッケージ\n"
      ],
      "metadata": {
        "id": "m9StNsaWkmrx"
      }
    },
    {
      "cell_type": "markdown",
      "source": [
        "### **6.4 `dplyr`を使ったデータ処理**"
      ],
      "metadata": {
        "id": "8Yg-BqogzKeZ"
      }
    },
    {
      "cell_type": "markdown",
      "source": [
        "#### **6.4.1 tidyverseパッケージのロード**"
      ],
      "metadata": {
        "id": "ppgQLHox6PIu"
      }
    },
    {
      "cell_type": "markdown",
      "source": [
        "tidyverseパッケージをロードします（未インストールの場合は、install.packages(“tidyverse”)でインストールしてください；結構大量にインストールされるので時間がかかります）。tidyverse パッケージをロードすると、同時に 上の8 つのパッケージがロードされます．"
      ],
      "metadata": {
        "id": "Flz2hatm5kVC"
      }
    },
    {
      "cell_type": "code",
      "source": [
        "library(tidyverse)"
      ],
      "metadata": {
        "id": "R8z-GX4i3Xc2"
      },
      "execution_count": 8,
      "outputs": []
    },
    {
      "cell_type": "markdown",
      "source": [
        "としてもよいですが，dplyrパッケージだけが使いたいときは下のようにしてもいいです．"
      ],
      "metadata": {
        "id": "kgTSI2pK6dLE"
      }
    },
    {
      "cell_type": "code",
      "source": [
        "library(dplyr)"
      ],
      "metadata": {
        "id": "O2aQxllv6U2F"
      },
      "execution_count": 10,
      "outputs": []
    },
    {
      "cell_type": "markdown",
      "source": [
        "#### **6.4.2 データの準備**\n",
        "まずは、サンプルデータフレームを準備します．Base Rで使われるdata.frame型で作成してもよいですし，tidyverse内で使われるtibble型で作成してもいいです．ここではdata.frame型で解説を進めます．"
      ],
      "metadata": {
        "id": "WgeXuN3Z46f4"
      }
    },
    {
      "cell_type": "code",
      "source": [
        "# データの作成（data.frame版）\n",
        "data <- data.frame(\n",
        "  id = 1:50,\n",
        "  name = c(\"佐藤\", \"鈴木\", \"高橋\", \"田中\", \"伊藤\", \"渡辺\", \"山本\", \"中村\", \"小林\", \"加藤\",\n",
        "           \"吉田\", \"山田\", \"佐々木\", \"山口\", \"松本\", \"井上\", \"木村\", \"林\", \"斎藤\", \"清水\",\n",
        "           \"山崎\", \"小森\", \"池田\", \"橋本\", \"阿部\", \"狩野\", \"山下\", \"小川\", \"中島\", \"石井\",\n",
        "           \"前田\", \"藤田\", \"岡田\", \"後藤\", \"長谷川\", \"村上\", \"近藤\", \"石原\", \"坂本\", \"遠藤\",\n",
        "           \"青野\", \"藤井\", \"西村\", \"福田\", \"太田\", \"三浦\", \"岡本\", \"松田\", \"中川\", \"中野\"),\n",
        "  score = c(40, 76, 45, 78, 57, 55, 44, 71, 41, 41, 79, 75, 78, 51, 58, 67, 40, 54,\n",
        "           75, 52, 60, 51, 44, 46, 44, 43, 52, 76, 54, 55, 60, 75, 63, 55, 53, 61,\n",
        "           45, 75, 40, 71, 45, 70, 40, 76, 74, 69, 43, 74, 53, 79)\n",
        ")\n",
        "\n",
        "head(data)"
      ],
      "metadata": {
        "colab": {
          "base_uri": "https://localhost:8080/",
          "height": 286
        },
        "id": "QopPlZx15V6W",
        "outputId": "8b86cf0b-30d2-4175-eed4-217b7aaeaaf7"
      },
      "execution_count": 53,
      "outputs": [
        {
          "output_type": "display_data",
          "data": {
            "text/html": [
              "<table class=\"dataframe\">\n",
              "<caption>A data.frame: 6 × 3</caption>\n",
              "<thead>\n",
              "\t<tr><th></th><th scope=col>id</th><th scope=col>name</th><th scope=col>score</th></tr>\n",
              "\t<tr><th></th><th scope=col>&lt;int&gt;</th><th scope=col>&lt;chr&gt;</th><th scope=col>&lt;dbl&gt;</th></tr>\n",
              "</thead>\n",
              "<tbody>\n",
              "\t<tr><th scope=row>1</th><td>1</td><td>佐藤</td><td>40</td></tr>\n",
              "\t<tr><th scope=row>2</th><td>2</td><td>鈴木</td><td>76</td></tr>\n",
              "\t<tr><th scope=row>3</th><td>3</td><td>高橋</td><td>45</td></tr>\n",
              "\t<tr><th scope=row>4</th><td>4</td><td>田中</td><td>78</td></tr>\n",
              "\t<tr><th scope=row>5</th><td>5</td><td>伊藤</td><td>57</td></tr>\n",
              "\t<tr><th scope=row>6</th><td>6</td><td>渡辺</td><td>55</td></tr>\n",
              "</tbody>\n",
              "</table>\n"
            ],
            "text/markdown": "\nA data.frame: 6 × 3\n\n| <!--/--> | id &lt;int&gt; | name &lt;chr&gt; | score &lt;dbl&gt; |\n|---|---|---|---|\n| 1 | 1 | 佐藤 | 40 |\n| 2 | 2 | 鈴木 | 76 |\n| 3 | 3 | 高橋 | 45 |\n| 4 | 4 | 田中 | 78 |\n| 5 | 5 | 伊藤 | 57 |\n| 6 | 6 | 渡辺 | 55 |\n\n",
            "text/latex": "A data.frame: 6 × 3\n\\begin{tabular}{r|lll}\n  & id & name & score\\\\\n  & <int> & <chr> & <dbl>\\\\\n\\hline\n\t1 & 1 & 佐藤 & 40\\\\\n\t2 & 2 & 鈴木 & 76\\\\\n\t3 & 3 & 高橋 & 45\\\\\n\t4 & 4 & 田中 & 78\\\\\n\t5 & 5 & 伊藤 & 57\\\\\n\t6 & 6 & 渡辺 & 55\\\\\n\\end{tabular}\n",
            "text/plain": [
              "  id name score\n",
              "1 1  佐藤 40   \n",
              "2 2  鈴木 76   \n",
              "3 3  高橋 45   \n",
              "4 4  田中 78   \n",
              "5 5  伊藤 57   \n",
              "6 6  渡辺 55   "
            ]
          },
          "metadata": {}
        }
      ]
    },
    {
      "cell_type": "code",
      "source": [
        "# データの作成（tibble版）\n",
        "data_tibble <- tibble(\n",
        "  id = 1:50,\n",
        "  name = c(\"佐藤\", \"鈴木\", \"高橋\", \"田中\", \"伊藤\", \"渡辺\", \"山本\", \"中村\", \"小林\", \"加藤\",\n",
        "           \"吉田\", \"山田\", \"佐々木\", \"山口\", \"松本\", \"井上\", \"木村\", \"林\", \"斎藤\", \"清水\",\n",
        "           \"山崎\", \"小森\", \"池田\", \"橋本\", \"阿部\", \"狩野\", \"山下\", \"小川\", \"中島\", \"石井\",\n",
        "           \"前田\", \"藤田\", \"岡田\", \"後藤\", \"長谷川\", \"村上\", \"近藤\", \"石原\", \"坂本\", \"遠藤\",\n",
        "           \"青野\", \"藤井\", \"西村\", \"福田\", \"太田\", \"三浦\", \"岡本\", \"松田\", \"中川\", \"中野\"),\n",
        "  score = c(20, 56, 25, 58, 37, 35, 24, 51, 21, 21, 59, 55, 58, 31, 38, 47, 20, 34,\n",
        "          55, 32, 40, 31, 24, 26, 24, 23, 32, 56, 34, 35, 40, 55, 43, 35, 33,\n",
        "          41, 25, 55, 20, 51, 25, 50, 20, 56, 54, 49, 23, 54, 33, 59)\n",
        ")\n",
        "\n",
        "head(data)"
      ],
      "metadata": {
        "colab": {
          "base_uri": "https://localhost:8080/",
          "height": 286
        },
        "id": "dQoIpp9R6zd8",
        "outputId": "45b55d9a-76c4-465a-db14-cce4bd6c278b"
      },
      "execution_count": 54,
      "outputs": [
        {
          "output_type": "display_data",
          "data": {
            "text/html": [
              "<table class=\"dataframe\">\n",
              "<caption>A data.frame: 6 × 3</caption>\n",
              "<thead>\n",
              "\t<tr><th></th><th scope=col>id</th><th scope=col>name</th><th scope=col>score</th></tr>\n",
              "\t<tr><th></th><th scope=col>&lt;int&gt;</th><th scope=col>&lt;chr&gt;</th><th scope=col>&lt;dbl&gt;</th></tr>\n",
              "</thead>\n",
              "<tbody>\n",
              "\t<tr><th scope=row>1</th><td>1</td><td>佐藤</td><td>40</td></tr>\n",
              "\t<tr><th scope=row>2</th><td>2</td><td>鈴木</td><td>76</td></tr>\n",
              "\t<tr><th scope=row>3</th><td>3</td><td>高橋</td><td>45</td></tr>\n",
              "\t<tr><th scope=row>4</th><td>4</td><td>田中</td><td>78</td></tr>\n",
              "\t<tr><th scope=row>5</th><td>5</td><td>伊藤</td><td>57</td></tr>\n",
              "\t<tr><th scope=row>6</th><td>6</td><td>渡辺</td><td>55</td></tr>\n",
              "</tbody>\n",
              "</table>\n"
            ],
            "text/markdown": "\nA data.frame: 6 × 3\n\n| <!--/--> | id &lt;int&gt; | name &lt;chr&gt; | score &lt;dbl&gt; |\n|---|---|---|---|\n| 1 | 1 | 佐藤 | 40 |\n| 2 | 2 | 鈴木 | 76 |\n| 3 | 3 | 高橋 | 45 |\n| 4 | 4 | 田中 | 78 |\n| 5 | 5 | 伊藤 | 57 |\n| 6 | 6 | 渡辺 | 55 |\n\n",
            "text/latex": "A data.frame: 6 × 3\n\\begin{tabular}{r|lll}\n  & id & name & score\\\\\n  & <int> & <chr> & <dbl>\\\\\n\\hline\n\t1 & 1 & 佐藤 & 40\\\\\n\t2 & 2 & 鈴木 & 76\\\\\n\t3 & 3 & 高橋 & 45\\\\\n\t4 & 4 & 田中 & 78\\\\\n\t5 & 5 & 伊藤 & 57\\\\\n\t6 & 6 & 渡辺 & 55\\\\\n\\end{tabular}\n",
            "text/plain": [
              "  id name score\n",
              "1 1  佐藤 40   \n",
              "2 2  鈴木 76   \n",
              "3 3  高橋 45   \n",
              "4 4  田中 78   \n",
              "5 5  伊藤 57   \n",
              "6 6  渡辺 55   "
            ]
          },
          "metadata": {}
        }
      ]
    },
    {
      "cell_type": "markdown",
      "source": [
        "#### **6.4.3 `dplyr`パッケージの関数の基本**"
      ],
      "metadata": {
        "id": "kAa26-967R44"
      }
    },
    {
      "cell_type": "markdown",
      "source": [
        "1. **選択 (select)**: データフレームから特定の列を選択します。\n"
      ],
      "metadata": {
        "id": "V-qhwsN-7dTE"
      }
    },
    {
      "cell_type": "code",
      "source": [
        "# id列を省く\n",
        "selected_data <- select(data, name, score)\n",
        "head(selected_data)"
      ],
      "metadata": {
        "colab": {
          "base_uri": "https://localhost:8080/",
          "height": 303
        },
        "id": "l4I9LJLS7gMs",
        "outputId": "a6d8d88c-5de8-4c3d-87c0-4a1e6ca701e5"
      },
      "execution_count": 61,
      "outputs": [
        {
          "output_type": "display_data",
          "data": {
            "text/html": [
              "<table class=\"dataframe\">\n",
              "<caption>A data.frame: 6 × 2</caption>\n",
              "<thead>\n",
              "\t<tr><th></th><th scope=col>name</th><th scope=col>score</th></tr>\n",
              "\t<tr><th></th><th scope=col>&lt;chr&gt;</th><th scope=col>&lt;dbl&gt;</th></tr>\n",
              "</thead>\n",
              "<tbody>\n",
              "\t<tr><th scope=row>1</th><td>佐藤</td><td>40</td></tr>\n",
              "\t<tr><th scope=row>2</th><td>鈴木</td><td>76</td></tr>\n",
              "\t<tr><th scope=row>3</th><td>高橋</td><td>45</td></tr>\n",
              "\t<tr><th scope=row>4</th><td>田中</td><td>78</td></tr>\n",
              "\t<tr><th scope=row>5</th><td>伊藤</td><td>57</td></tr>\n",
              "\t<tr><th scope=row>6</th><td>渡辺</td><td>55</td></tr>\n",
              "</tbody>\n",
              "</table>\n"
            ],
            "text/markdown": "\nA data.frame: 6 × 2\n\n| <!--/--> | name &lt;chr&gt; | score &lt;dbl&gt; |\n|---|---|---|\n| 1 | 佐藤 | 40 |\n| 2 | 鈴木 | 76 |\n| 3 | 高橋 | 45 |\n| 4 | 田中 | 78 |\n| 5 | 伊藤 | 57 |\n| 6 | 渡辺 | 55 |\n\n",
            "text/latex": "A data.frame: 6 × 2\n\\begin{tabular}{r|ll}\n  & name & score\\\\\n  & <chr> & <dbl>\\\\\n\\hline\n\t1 & 佐藤 & 40\\\\\n\t2 & 鈴木 & 76\\\\\n\t3 & 高橋 & 45\\\\\n\t4 & 田中 & 78\\\\\n\t5 & 伊藤 & 57\\\\\n\t6 & 渡辺 & 55\\\\\n\\end{tabular}\n",
            "text/plain": [
              "  name score\n",
              "1 佐藤 40   \n",
              "2 鈴木 76   \n",
              "3 高橋 45   \n",
              "4 田中 78   \n",
              "5 伊藤 57   \n",
              "6 渡辺 55   "
            ]
          },
          "metadata": {}
        }
      ]
    },
    {
      "cell_type": "markdown",
      "source": [
        "2. **絞り込み (filter)**: 条件に一致する行でデータフレームを絞り込みます。"
      ],
      "metadata": {
        "id": "-aOO6CU17kD0"
      }
    },
    {
      "cell_type": "code",
      "source": [
        "# 合格者だけのデータを抜き出す\n",
        "filtered_data <- filter(data, score >= 60)\n",
        "head(filtered_data)"
      ],
      "metadata": {
        "colab": {
          "base_uri": "https://localhost:8080/",
          "height": 286
        },
        "id": "YAvzHGhI7oH0",
        "outputId": "9792a21e-9534-492c-83f5-d2fcfdbbc513"
      },
      "execution_count": 62,
      "outputs": [
        {
          "output_type": "display_data",
          "data": {
            "text/html": [
              "<table class=\"dataframe\">\n",
              "<caption>A data.frame: 6 × 3</caption>\n",
              "<thead>\n",
              "\t<tr><th></th><th scope=col>id</th><th scope=col>name</th><th scope=col>score</th></tr>\n",
              "\t<tr><th></th><th scope=col>&lt;int&gt;</th><th scope=col>&lt;chr&gt;</th><th scope=col>&lt;dbl&gt;</th></tr>\n",
              "</thead>\n",
              "<tbody>\n",
              "\t<tr><th scope=row>1</th><td> 2</td><td>鈴木  </td><td>76</td></tr>\n",
              "\t<tr><th scope=row>2</th><td> 4</td><td>田中  </td><td>78</td></tr>\n",
              "\t<tr><th scope=row>3</th><td> 8</td><td>中村  </td><td>71</td></tr>\n",
              "\t<tr><th scope=row>4</th><td>11</td><td>吉田  </td><td>79</td></tr>\n",
              "\t<tr><th scope=row>5</th><td>12</td><td>山田  </td><td>75</td></tr>\n",
              "\t<tr><th scope=row>6</th><td>13</td><td>佐々木</td><td>78</td></tr>\n",
              "</tbody>\n",
              "</table>\n"
            ],
            "text/markdown": "\nA data.frame: 6 × 3\n\n| <!--/--> | id &lt;int&gt; | name &lt;chr&gt; | score &lt;dbl&gt; |\n|---|---|---|---|\n| 1 |  2 | 鈴木   | 76 |\n| 2 |  4 | 田中   | 78 |\n| 3 |  8 | 中村   | 71 |\n| 4 | 11 | 吉田   | 79 |\n| 5 | 12 | 山田   | 75 |\n| 6 | 13 | 佐々木 | 78 |\n\n",
            "text/latex": "A data.frame: 6 × 3\n\\begin{tabular}{r|lll}\n  & id & name & score\\\\\n  & <int> & <chr> & <dbl>\\\\\n\\hline\n\t1 &  2 & 鈴木   & 76\\\\\n\t2 &  4 & 田中   & 78\\\\\n\t3 &  8 & 中村   & 71\\\\\n\t4 & 11 & 吉田   & 79\\\\\n\t5 & 12 & 山田   & 75\\\\\n\t6 & 13 & 佐々木 & 78\\\\\n\\end{tabular}\n",
            "text/plain": [
              "  id name   score\n",
              "1  2 鈴木   76   \n",
              "2  4 田中   78   \n",
              "3  8 中村   71   \n",
              "4 11 吉田   79   \n",
              "5 12 山田   75   \n",
              "6 13 佐々木 78   "
            ]
          },
          "metadata": {}
        }
      ]
    },
    {
      "cell_type": "markdown",
      "source": [
        "3. **並べ替え (arrange)**: 指定した列に基づいて行を並べ替えます。"
      ],
      "metadata": {
        "id": "8S_il-uu7tJR"
      }
    },
    {
      "cell_type": "code",
      "source": [
        "arranged_data <- arrange(data, desc(score))\n",
        "head(arranged_data)"
      ],
      "metadata": {
        "colab": {
          "base_uri": "https://localhost:8080/",
          "height": 286
        },
        "id": "jhhqYJL_7wB-",
        "outputId": "c989ca9e-9de8-4441-fe46-a2888cc1bf10"
      },
      "execution_count": 63,
      "outputs": [
        {
          "output_type": "display_data",
          "data": {
            "text/html": [
              "<table class=\"dataframe\">\n",
              "<caption>A data.frame: 6 × 3</caption>\n",
              "<thead>\n",
              "\t<tr><th></th><th scope=col>id</th><th scope=col>name</th><th scope=col>score</th></tr>\n",
              "\t<tr><th></th><th scope=col>&lt;int&gt;</th><th scope=col>&lt;chr&gt;</th><th scope=col>&lt;dbl&gt;</th></tr>\n",
              "</thead>\n",
              "<tbody>\n",
              "\t<tr><th scope=row>1</th><td>11</td><td>吉田  </td><td>79</td></tr>\n",
              "\t<tr><th scope=row>2</th><td>50</td><td>中野  </td><td>79</td></tr>\n",
              "\t<tr><th scope=row>3</th><td> 4</td><td>田中  </td><td>78</td></tr>\n",
              "\t<tr><th scope=row>4</th><td>13</td><td>佐々木</td><td>78</td></tr>\n",
              "\t<tr><th scope=row>5</th><td> 2</td><td>鈴木  </td><td>76</td></tr>\n",
              "\t<tr><th scope=row>6</th><td>28</td><td>小川  </td><td>76</td></tr>\n",
              "</tbody>\n",
              "</table>\n"
            ],
            "text/markdown": "\nA data.frame: 6 × 3\n\n| <!--/--> | id &lt;int&gt; | name &lt;chr&gt; | score &lt;dbl&gt; |\n|---|---|---|---|\n| 1 | 11 | 吉田   | 79 |\n| 2 | 50 | 中野   | 79 |\n| 3 |  4 | 田中   | 78 |\n| 4 | 13 | 佐々木 | 78 |\n| 5 |  2 | 鈴木   | 76 |\n| 6 | 28 | 小川   | 76 |\n\n",
            "text/latex": "A data.frame: 6 × 3\n\\begin{tabular}{r|lll}\n  & id & name & score\\\\\n  & <int> & <chr> & <dbl>\\\\\n\\hline\n\t1 & 11 & 吉田   & 79\\\\\n\t2 & 50 & 中野   & 79\\\\\n\t3 &  4 & 田中   & 78\\\\\n\t4 & 13 & 佐々木 & 78\\\\\n\t5 &  2 & 鈴木   & 76\\\\\n\t6 & 28 & 小川   & 76\\\\\n\\end{tabular}\n",
            "text/plain": [
              "  id name   score\n",
              "1 11 吉田   79   \n",
              "2 50 中野   79   \n",
              "3  4 田中   78   \n",
              "4 13 佐々木 78   \n",
              "5  2 鈴木   76   \n",
              "6 28 小川   76   "
            ]
          },
          "metadata": {}
        }
      ]
    },
    {
      "cell_type": "markdown",
      "source": [
        "4. **変換 (mutate)**: 既存の列を使って新しい列を作成します。"
      ],
      "metadata": {
        "id": "rBhhAtZi70K6"
      }
    },
    {
      "cell_type": "code",
      "source": [
        "# 新しい列\"passed\"が作られ合格の場合TRUE，不合格の場合はFALSEが入ります\n",
        "mutated_data <- mutate(data, passed = score >= 60)\n",
        "head(mutated_data)"
      ],
      "metadata": {
        "colab": {
          "base_uri": "https://localhost:8080/",
          "height": 286
        },
        "id": "l7Cw2w8O73OB",
        "outputId": "722900ab-3860-4d3b-a658-22dbd8f74dfa"
      },
      "execution_count": 64,
      "outputs": [
        {
          "output_type": "display_data",
          "data": {
            "text/html": [
              "<table class=\"dataframe\">\n",
              "<caption>A data.frame: 6 × 4</caption>\n",
              "<thead>\n",
              "\t<tr><th></th><th scope=col>id</th><th scope=col>name</th><th scope=col>score</th><th scope=col>passed</th></tr>\n",
              "\t<tr><th></th><th scope=col>&lt;int&gt;</th><th scope=col>&lt;chr&gt;</th><th scope=col>&lt;dbl&gt;</th><th scope=col>&lt;lgl&gt;</th></tr>\n",
              "</thead>\n",
              "<tbody>\n",
              "\t<tr><th scope=row>1</th><td>1</td><td>佐藤</td><td>40</td><td>FALSE</td></tr>\n",
              "\t<tr><th scope=row>2</th><td>2</td><td>鈴木</td><td>76</td><td> TRUE</td></tr>\n",
              "\t<tr><th scope=row>3</th><td>3</td><td>高橋</td><td>45</td><td>FALSE</td></tr>\n",
              "\t<tr><th scope=row>4</th><td>4</td><td>田中</td><td>78</td><td> TRUE</td></tr>\n",
              "\t<tr><th scope=row>5</th><td>5</td><td>伊藤</td><td>57</td><td>FALSE</td></tr>\n",
              "\t<tr><th scope=row>6</th><td>6</td><td>渡辺</td><td>55</td><td>FALSE</td></tr>\n",
              "</tbody>\n",
              "</table>\n"
            ],
            "text/markdown": "\nA data.frame: 6 × 4\n\n| <!--/--> | id &lt;int&gt; | name &lt;chr&gt; | score &lt;dbl&gt; | passed &lt;lgl&gt; |\n|---|---|---|---|---|\n| 1 | 1 | 佐藤 | 40 | FALSE |\n| 2 | 2 | 鈴木 | 76 |  TRUE |\n| 3 | 3 | 高橋 | 45 | FALSE |\n| 4 | 4 | 田中 | 78 |  TRUE |\n| 5 | 5 | 伊藤 | 57 | FALSE |\n| 6 | 6 | 渡辺 | 55 | FALSE |\n\n",
            "text/latex": "A data.frame: 6 × 4\n\\begin{tabular}{r|llll}\n  & id & name & score & passed\\\\\n  & <int> & <chr> & <dbl> & <lgl>\\\\\n\\hline\n\t1 & 1 & 佐藤 & 40 & FALSE\\\\\n\t2 & 2 & 鈴木 & 76 &  TRUE\\\\\n\t3 & 3 & 高橋 & 45 & FALSE\\\\\n\t4 & 4 & 田中 & 78 &  TRUE\\\\\n\t5 & 5 & 伊藤 & 57 & FALSE\\\\\n\t6 & 6 & 渡辺 & 55 & FALSE\\\\\n\\end{tabular}\n",
            "text/plain": [
              "  id name score passed\n",
              "1 1  佐藤 40    FALSE \n",
              "2 2  鈴木 76     TRUE \n",
              "3 3  高橋 45    FALSE \n",
              "4 4  田中 78     TRUE \n",
              "5 5  伊藤 57    FALSE \n",
              "6 6  渡辺 55    FALSE "
            ]
          },
          "metadata": {}
        }
      ]
    },
    {
      "cell_type": "code",
      "source": [
        "# 新しい列\"status\"が作られ合格の場合「合格」，不合格の場合は「ブッブー」が入ります\n",
        "mutated_data <- mutate(data, status = ifelse(score >= 60, \"合格\", \"ブッブー\"))\n",
        "head(mutated_data)"
      ],
      "metadata": {
        "colab": {
          "base_uri": "https://localhost:8080/",
          "height": 286
        },
        "id": "4eRM0zJ4BUu-",
        "outputId": "eff74fbc-5e34-4a50-fe9e-4ef0a9e7c704"
      },
      "execution_count": 65,
      "outputs": [
        {
          "output_type": "display_data",
          "data": {
            "text/html": [
              "<table class=\"dataframe\">\n",
              "<caption>A data.frame: 6 × 4</caption>\n",
              "<thead>\n",
              "\t<tr><th></th><th scope=col>id</th><th scope=col>name</th><th scope=col>score</th><th scope=col>status</th></tr>\n",
              "\t<tr><th></th><th scope=col>&lt;int&gt;</th><th scope=col>&lt;chr&gt;</th><th scope=col>&lt;dbl&gt;</th><th scope=col>&lt;chr&gt;</th></tr>\n",
              "</thead>\n",
              "<tbody>\n",
              "\t<tr><th scope=row>1</th><td>1</td><td>佐藤</td><td>40</td><td>ブッブー</td></tr>\n",
              "\t<tr><th scope=row>2</th><td>2</td><td>鈴木</td><td>76</td><td>合格    </td></tr>\n",
              "\t<tr><th scope=row>3</th><td>3</td><td>高橋</td><td>45</td><td>ブッブー</td></tr>\n",
              "\t<tr><th scope=row>4</th><td>4</td><td>田中</td><td>78</td><td>合格    </td></tr>\n",
              "\t<tr><th scope=row>5</th><td>5</td><td>伊藤</td><td>57</td><td>ブッブー</td></tr>\n",
              "\t<tr><th scope=row>6</th><td>6</td><td>渡辺</td><td>55</td><td>ブッブー</td></tr>\n",
              "</tbody>\n",
              "</table>\n"
            ],
            "text/markdown": "\nA data.frame: 6 × 4\n\n| <!--/--> | id &lt;int&gt; | name &lt;chr&gt; | score &lt;dbl&gt; | status &lt;chr&gt; |\n|---|---|---|---|---|\n| 1 | 1 | 佐藤 | 40 | ブッブー |\n| 2 | 2 | 鈴木 | 76 | 合格     |\n| 3 | 3 | 高橋 | 45 | ブッブー |\n| 4 | 4 | 田中 | 78 | 合格     |\n| 5 | 5 | 伊藤 | 57 | ブッブー |\n| 6 | 6 | 渡辺 | 55 | ブッブー |\n\n",
            "text/latex": "A data.frame: 6 × 4\n\\begin{tabular}{r|llll}\n  & id & name & score & status\\\\\n  & <int> & <chr> & <dbl> & <chr>\\\\\n\\hline\n\t1 & 1 & 佐藤 & 40 & ブッブー\\\\\n\t2 & 2 & 鈴木 & 76 & 合格    \\\\\n\t3 & 3 & 高橋 & 45 & ブッブー\\\\\n\t4 & 4 & 田中 & 78 & 合格    \\\\\n\t5 & 5 & 伊藤 & 57 & ブッブー\\\\\n\t6 & 6 & 渡辺 & 55 & ブッブー\\\\\n\\end{tabular}\n",
            "text/plain": [
              "  id name score status  \n",
              "1 1  佐藤 40    ブッブー\n",
              "2 2  鈴木 76    合格    \n",
              "3 3  高橋 45    ブッブー\n",
              "4 4  田中 78    合格    \n",
              "5 5  伊藤 57    ブッブー\n",
              "6 6  渡辺 55    ブッブー"
            ]
          },
          "metadata": {}
        }
      ]
    },
    {
      "cell_type": "markdown",
      "source": [
        "5. **要約 (summarise)**: データの要約統計を計算します。"
      ],
      "metadata": {
        "id": "dTjHK8WB75ZI"
      }
    },
    {
      "cell_type": "code",
      "source": [
        "# ここではmean()を使って平均点を出しています\n",
        "summarised_data <- summarise(data, average_score = mean(score))\n",
        "print(summarised_data)"
      ],
      "metadata": {
        "colab": {
          "base_uri": "https://localhost:8080/"
        },
        "id": "MNrXea9I78ts",
        "outputId": "8af47a31-cc21-43e6-a21f-7a5e201a4722"
      },
      "execution_count": 66,
      "outputs": [
        {
          "output_type": "stream",
          "name": "stdout",
          "text": [
            "  average_score\n",
            "1         58.46\n"
          ]
        }
      ]
    },
    {
      "cell_type": "markdown",
      "source": [
        "6. **グループ化と要約 (group_by + summarise)**: グループ化したデータに対して要約統計を計算します（パイプ演算子`%>%`については下で説明します）"
      ],
      "metadata": {
        "id": "pEYJSDA18HDG"
      }
    },
    {
      "cell_type": "code",
      "source": [
        "# この例では、先に`mutate`を使用して合格状況（status）で分類\n",
        "data_with_status <- mutate(data, status = ifelse(score >= 60, \"合格\", \"不合格\"))\n",
        "\n",
        "# data_with_statusをgroup_by(status)で合格状況ごとにグルーピングし，\n",
        "# それぞれの平均値をsummarise()で求めている\n",
        "grouped_summary <- data_with_status %>%\n",
        "    group_by(status) %>%\n",
        "    summarise(average_score = mean(score))\n",
        "\n",
        "print(grouped_summary)"
      ],
      "metadata": {
        "colab": {
          "base_uri": "https://localhost:8080/"
        },
        "id": "wsFQa6UF8Tcu",
        "outputId": "3203c231-8806-479b-96b8-1877a4296d7f"
      },
      "execution_count": 67,
      "outputs": [
        {
          "output_type": "stream",
          "name": "stdout",
          "text": [
            "\u001b[90m# A tibble: 2 × 2\u001b[39m\n",
            "  status average_score\n",
            "  \u001b[3m\u001b[90m<chr>\u001b[39m\u001b[23m          \u001b[3m\u001b[90m<dbl>\u001b[39m\u001b[23m\n",
            "\u001b[90m1\u001b[39m 不合格          47.9\n",
            "\u001b[90m2\u001b[39m 合格            71.9\n"
          ]
        }
      ]
    },
    {
      "cell_type": "markdown",
      "source": [
        "### **6.5 パイプ演算子の使い方**"
      ],
      "metadata": {
        "id": "VBb-DVGObtHL"
      }
    },
    {
      "cell_type": "markdown",
      "source": [
        "#### **6.5.1 パイプ演算子とは**"
      ],
      "metadata": {
        "id": "S3T2Q60PH1k-"
      }
    },
    {
      "cell_type": "markdown",
      "source": [
        "`dplyr`と一緒によく使われる`%>%`は、パイプ演算子（pipe operator）と呼ばれ，Rの`magrittr`パッケージによって提供されています．`tidyverse`に含まれるため、`tidyverse`をロードすることで自動的に使えるようになります．パイプ演算子は、コードの可読性を向上させ，データ処理の工程を直感的につなげることができる強力なツールですので，バグを減らし再現性を高めることが期待できます．\n",
        "\n",
        "パイプ演算子`%>%`は、左側の結果を右側の関数の最初の引数として渡します．これにより、ネストされた関数呼び出し（関数の中で関数を呼び出す）を避け，コードをより読みやすく直感的なものにすることができます．\n",
        "\n",
        "```r\n",
        "# ネストされた呼び出しの例\n",
        "関数C( 関数B( 関数A( データ ) ) )\n",
        "```\n",
        "\n",
        "```r\n",
        "# パイプ演算子による処理\n",
        "データ %>% 関数A %>% 関数B %>% 関数C\n",
        "```\n",
        "\n"
      ],
      "metadata": {
        "id": "4rSGMcm8FAg_"
      }
    },
    {
      "cell_type": "markdown",
      "source": [
        "\n",
        "#### **6.5.2 パイプ演算子の使用例**\n",
        "**パイプ演算子なしで書かれたコード：**"
      ],
      "metadata": {
        "id": "0wDFfy3PHy-R"
      }
    },
    {
      "cell_type": "code",
      "source": [
        "arrange(filter(select(data, name, score), score >= 75), desc(score))"
      ],
      "metadata": {
        "colab": {
          "base_uri": "https://localhost:8080/",
          "height": 460
        },
        "id": "6yatGLAUGy6g",
        "outputId": "88cff2d0-9d6f-44c8-e9b4-1fcd93f77e8b"
      },
      "execution_count": 75,
      "outputs": [
        {
          "output_type": "display_data",
          "data": {
            "text/html": [
              "<table class=\"dataframe\">\n",
              "<caption>A data.frame: 11 × 2</caption>\n",
              "<thead>\n",
              "\t<tr><th scope=col>name</th><th scope=col>score</th></tr>\n",
              "\t<tr><th scope=col>&lt;chr&gt;</th><th scope=col>&lt;dbl&gt;</th></tr>\n",
              "</thead>\n",
              "<tbody>\n",
              "\t<tr><td>吉田  </td><td>79</td></tr>\n",
              "\t<tr><td>中野  </td><td>79</td></tr>\n",
              "\t<tr><td>田中  </td><td>78</td></tr>\n",
              "\t<tr><td>佐々木</td><td>78</td></tr>\n",
              "\t<tr><td>鈴木  </td><td>76</td></tr>\n",
              "\t<tr><td>小川  </td><td>76</td></tr>\n",
              "\t<tr><td>福田  </td><td>76</td></tr>\n",
              "\t<tr><td>山田  </td><td>75</td></tr>\n",
              "\t<tr><td>斎藤  </td><td>75</td></tr>\n",
              "\t<tr><td>藤田  </td><td>75</td></tr>\n",
              "\t<tr><td>石原  </td><td>75</td></tr>\n",
              "</tbody>\n",
              "</table>\n"
            ],
            "text/markdown": "\nA data.frame: 11 × 2\n\n| name &lt;chr&gt; | score &lt;dbl&gt; |\n|---|---|\n| 吉田   | 79 |\n| 中野   | 79 |\n| 田中   | 78 |\n| 佐々木 | 78 |\n| 鈴木   | 76 |\n| 小川   | 76 |\n| 福田   | 76 |\n| 山田   | 75 |\n| 斎藤   | 75 |\n| 藤田   | 75 |\n| 石原   | 75 |\n\n",
            "text/latex": "A data.frame: 11 × 2\n\\begin{tabular}{ll}\n name & score\\\\\n <chr> & <dbl>\\\\\n\\hline\n\t 吉田   & 79\\\\\n\t 中野   & 79\\\\\n\t 田中   & 78\\\\\n\t 佐々木 & 78\\\\\n\t 鈴木   & 76\\\\\n\t 小川   & 76\\\\\n\t 福田   & 76\\\\\n\t 山田   & 75\\\\\n\t 斎藤   & 75\\\\\n\t 藤田   & 75\\\\\n\t 石原   & 75\\\\\n\\end{tabular}\n",
            "text/plain": [
              "   name   score\n",
              "1  吉田   79   \n",
              "2  中野   79   \n",
              "3  田中   78   \n",
              "4  佐々木 78   \n",
              "5  鈴木   76   \n",
              "6  小川   76   \n",
              "7  福田   76   \n",
              "8  山田   75   \n",
              "9  斎藤   75   \n",
              "10 藤田   75   \n",
              "11 石原   75   "
            ]
          },
          "metadata": {}
        }
      ]
    },
    {
      "cell_type": "markdown",
      "source": [
        "このRコードは`data` データフレームから `name` と `score` の列を選択し、75点以上の得点を取得した学生のみを抽出して、得点が高い順（降順）に並べ替えた結果を返します．つまり，この処理は、成績表から合格基準を満たす学生を選び出し，その成績に基づいてランキングを作成していることになります．\n",
        "\n",
        "1. **`select(data, name, score)`**: `data` データフレームから `name` と `score` の2つの列を選択します。これにより、処理の対象となるデータがこれら2列に限定されます。\n",
        "\n",
        "2. **`filter(..., score >= 75)`**: `select` 関数によって抽出されたデータのうち、`score` が75以上の行のみを選択します。つまり、テストで75点以上を取得した学生のデータのみが次のステップに進みます。\n",
        "\n",
        "3. **`arrange(..., desc(score))`**: 最後に、`filter` 関数によって得られたデータを `score` の値で降順に並べ替えます。つまり、最高得点を取得した学生から順にデータが並べられます。\n"
      ],
      "metadata": {
        "id": "uENOHiXVHZmw"
      }
    },
    {
      "cell_type": "markdown",
      "source": [
        "**パイプ演算子を使用して書き直したコード：**\n"
      ],
      "metadata": {
        "id": "8xVyPkgJG0ey"
      }
    },
    {
      "cell_type": "code",
      "source": [
        "data %>%\n",
        "  select(name, score) %>%\n",
        "  filter(score >= 75) %>%\n",
        "  arrange(desc(score))"
      ],
      "metadata": {
        "colab": {
          "base_uri": "https://localhost:8080/",
          "height": 460
        },
        "id": "sCQnf6deG2xS",
        "outputId": "ef2d267e-e4df-4a0a-cbda-3651643b0c73"
      },
      "execution_count": 74,
      "outputs": [
        {
          "output_type": "display_data",
          "data": {
            "text/html": [
              "<table class=\"dataframe\">\n",
              "<caption>A data.frame: 11 × 2</caption>\n",
              "<thead>\n",
              "\t<tr><th scope=col>name</th><th scope=col>score</th></tr>\n",
              "\t<tr><th scope=col>&lt;chr&gt;</th><th scope=col>&lt;dbl&gt;</th></tr>\n",
              "</thead>\n",
              "<tbody>\n",
              "\t<tr><td>吉田  </td><td>79</td></tr>\n",
              "\t<tr><td>中野  </td><td>79</td></tr>\n",
              "\t<tr><td>田中  </td><td>78</td></tr>\n",
              "\t<tr><td>佐々木</td><td>78</td></tr>\n",
              "\t<tr><td>鈴木  </td><td>76</td></tr>\n",
              "\t<tr><td>小川  </td><td>76</td></tr>\n",
              "\t<tr><td>福田  </td><td>76</td></tr>\n",
              "\t<tr><td>山田  </td><td>75</td></tr>\n",
              "\t<tr><td>斎藤  </td><td>75</td></tr>\n",
              "\t<tr><td>藤田  </td><td>75</td></tr>\n",
              "\t<tr><td>石原  </td><td>75</td></tr>\n",
              "</tbody>\n",
              "</table>\n"
            ],
            "text/markdown": "\nA data.frame: 11 × 2\n\n| name &lt;chr&gt; | score &lt;dbl&gt; |\n|---|---|\n| 吉田   | 79 |\n| 中野   | 79 |\n| 田中   | 78 |\n| 佐々木 | 78 |\n| 鈴木   | 76 |\n| 小川   | 76 |\n| 福田   | 76 |\n| 山田   | 75 |\n| 斎藤   | 75 |\n| 藤田   | 75 |\n| 石原   | 75 |\n\n",
            "text/latex": "A data.frame: 11 × 2\n\\begin{tabular}{ll}\n name & score\\\\\n <chr> & <dbl>\\\\\n\\hline\n\t 吉田   & 79\\\\\n\t 中野   & 79\\\\\n\t 田中   & 78\\\\\n\t 佐々木 & 78\\\\\n\t 鈴木   & 76\\\\\n\t 小川   & 76\\\\\n\t 福田   & 76\\\\\n\t 山田   & 75\\\\\n\t 斎藤   & 75\\\\\n\t 藤田   & 75\\\\\n\t 石原   & 75\\\\\n\\end{tabular}\n",
            "text/plain": [
              "   name   score\n",
              "1  吉田   79   \n",
              "2  中野   79   \n",
              "3  田中   78   \n",
              "4  佐々木 78   \n",
              "5  鈴木   76   \n",
              "6  小川   76   \n",
              "7  福田   76   \n",
              "8  山田   75   \n",
              "9  斎藤   75   \n",
              "10 藤田   75   \n",
              "11 石原   75   "
            ]
          },
          "metadata": {}
        }
      ]
    },
    {
      "cell_type": "markdown",
      "source": [
        "このコードも上と同様の処理を行っていますが，パイプ演算子(`%>%`)を用いることで，複数の処理を直感的かつ読みやすい形で連鎖させています．各ステップの具体的な操作は以下の通りです：\n",
        "\n",
        "1. `select(name, score)`: 最初に、`data`データフレームから`name`（名前）と`score`（得点）の2つの列を選択します。これにより、処理に必要な情報のみを含むデータフレームが作成されます。\n",
        "\n",
        "2. `filter(score >= 75)`: 選択されたデータのうち、`score`が75点以上の行だけを抽出します。このフィルタリングにより、75点以上を取得した学生のデータのみが次のステップへと進みます。\n",
        "\n",
        "3. `arrange(desc(score))`: 最終的に、フィルタリングされたデータを`score`列の値で降順に並べ替えます。これにより、最も高い得点を取得した学生から順にデータが並べられます。\n",
        "\n",
        "\n",
        "パイプ演算子を使用することで、処理の各ステップを明確にし、コードの読みやすさを向上させています．パイプ演算子は特に`tidyverse`のパッケージと相性が良く，Rでのデータ分析作業で非常に良く使われますので覚えておいてください．"
      ],
      "metadata": {
        "id": "fCyO1J0zJFqY"
      }
    }
  ]
}